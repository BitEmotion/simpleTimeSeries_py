{
 "cells": [
  {
   "cell_type": "code",
   "execution_count": 1,
   "metadata": {},
   "outputs": [],
   "source": [
    "import numpy as np\n",
    "import pandas as pd\n",
    "import matplotlib.pyplot as plt\n",
    "import math\n",
    "from random import *"
   ]
  },
  {
   "cell_type": "code",
   "execution_count": 61,
   "metadata": {},
   "outputs": [],
   "source": [
    "def makeMean(list):\n",
    "    sum = 0\n",
    "    for i in list: \n",
    "        sum += i\n",
    "    return sum / len(list)\n",
    "\n",
    "def makeVariance(list):\n",
    "    mean = makeMean(list)\n",
    "    sum = 0\n",
    "    for i in list:\n",
    "        sum += (i - mean) * (i - mean)\n",
    "    return sum / len(list)  \n",
    "\n",
    "def covariance(listX,listY):\n",
    "    meanX = makeMean(listX)\n",
    "    meanY = makeMean(listY)    \n",
    "    meanXY = 0\n",
    "    \n",
    "    list_length = len(listX)\n",
    "    sum = 0\n",
    "    while list_length != 0:\n",
    "        list_length -= 1\n",
    "        sum += listX[list_length] * listY[list_length]\n",
    "    meanXY = sum / len(listX)\n",
    "    return meanXY - (meanX * meanY)\n",
    "\n",
    "def correlation(listX,listY):\n",
    "    stdVarX = math.sqrt(makeVariance(listX))\n",
    "    stdVarY = math.sqrt(makeVariance(listY))\n",
    "    covXY = covariance(listX,listY);\n",
    "    \n",
    "    if covXY == 0 or stdVarX == 0 or stdVarY == 0:\n",
    "        return 0\n",
    "    return covXY / (stdVarX * stdVarY)\n",
    "\n",
    "def autoCovariance(list, lagNum):\n",
    "    \n",
    "    if lagNum >= len(list):\n",
    "        print('lag는 인자로 들어오는 배열 데이터의 길이보다 작아야 합니다')\n",
    "    \n",
    "    mean = makeMean(list);\n",
    "    list_length = len(list);\n",
    "    times = 0;\n",
    "    autoCov = 0;\n",
    "    for i in range(0,list_length - lagNum):\n",
    "        autoCov += (list[i + lagNum] - mean) * (list[i] - mean);\n",
    "        times += 1;\n",
    "    \n",
    "    return autoCov / times;\n",
    "\n",
    "def autoCorrelation(list, lagNum):\n",
    "    \n",
    "    if lagNum >= len(list):\n",
    "        print('lag는 인자로 들어오는 배열 데이터의 길이보다 작아야 합니다')\n",
    "        \n",
    "    rh = autoCovariance(list, lagNum)\n",
    "    r0 = autoCovariance(list, 0)\n",
    "    \n",
    "    if rh == 0 or r0 == 0: \n",
    "        return 0\n",
    "    return rh / r0\n",
    "\n",
    "def partialAutoCorrelation(list, lagNum):\n",
    "    \n",
    "    if lagNum >= len(list):\n",
    "        print('lag는 인자로 들어오는 배열 데이터의 길이보다 작아야 합니다')\n",
    "        \n",
    "    alpha = autoCorrelation(list,lagNum)\n",
    "\n",
    "    listX = []\n",
    "    listY = []\n",
    "    list_length = len(list)\n",
    "    \n",
    "    while list_length != 0:\n",
    "        if list_length - lagNum == 0:\n",
    "            break\n",
    "        \n",
    "        list_length -= 1\n",
    "        el_x = list[list_length]\n",
    "        el_y = list[list_length-lagNum]\n",
    "\n",
    "        temp_lagNum = lagNum;\n",
    "        while temp_lagNum != 0:\n",
    "            temp_lagNum -= 1\n",
    "            operand = (alpha * list[list_length - temp_lagNum])\n",
    "            el_x -= operand;\n",
    "            el_y -= operand;\n",
    "        \n",
    "\n",
    "        listX.append(el_x)\n",
    "        listY.append(el_y)\n",
    "    \n",
    "        \n",
    "    temp_lagNum = lagNum;\n",
    "\n",
    "    listX.append(-(alpha * list[0]))\n",
    "    listY.append(list[temp_lagNum] -(alpha * list[0]))\n",
    "\n",
    "    while temp_lagNum != 0:\n",
    "        temp_lagNum -= 1\n",
    "        listX.append(0)\n",
    "        listY.append(list[temp_lagNum])\n",
    "    \n",
    "    return correlation(listX, listY)"
   ]
  },
  {
   "cell_type": "code",
   "execution_count": 62,
   "metadata": {},
   "outputs": [],
   "source": [
    "csv_data = pd.read_csv('market-price.csv')"
   ]
  },
  {
   "cell_type": "code",
   "execution_count": 63,
   "metadata": {},
   "outputs": [
    {
     "name": "stdout",
     "output_type": "stream",
     "text": [
      "0      9988.947500\n",
      "1     10230.733330\n",
      "2     10292.383330\n",
      "3     10295.117500\n",
      "4     10605.825830\n",
      "5     10746.507690\n",
      "6     10169.094170\n",
      "7     10030.746670\n",
      "8     10255.977500\n",
      "9     10158.540830\n",
      "10    10105.825830\n",
      "11    10347.806670\n",
      "12    10176.794170\n",
      "13    10039.112500\n",
      "14     9521.571667\n",
      "15     9539.253333\n",
      "16     9591.573333\n",
      "17     9621.701667\n",
      "18     9937.605000\n",
      "19    10518.406670\n",
      "20    10568.231670\n",
      "21    10559.038330\n",
      "22    10656.319170\n",
      "23    10414.420000\n",
      "24    10471.512500\n",
      "25    10299.918330\n",
      "26    10226.008330\n",
      "27    10045.765000\n",
      "28    10209.944170\n",
      "29    10318.525830\n",
      "30    10338.066670\n",
      "31    10322.440000\n",
      "32    10249.153330\n",
      "33    10217.202500\n",
      "34    10196.028330\n",
      "35     9996.357500\n",
      "36    10178.476670\n",
      "37    10040.594170\n",
      "38     9974.545833\n",
      "39     9879.955833\n",
      "40     9456.814167\n",
      "41     8459.584167\n",
      "42     8257.246667\n",
      "43     8042.416667\n",
      "44     8154.111667\n",
      "45     8086.552500\n",
      "46     8068.150833\n",
      "47     8361.490000\n",
      "48     8261.832500\n",
      "49     8252.858333\n",
      "50     8156.176667\n",
      "51     8108.091667\n",
      "52     7993.049167\n",
      "53     8033.708333\n",
      "54     8213.045833\n",
      "55     8340.717500\n",
      "56     8565.504167\n",
      "57     8399.646667\n",
      "58     8328.436667\n",
      "59     8351.407500\n",
      "Name: Price, dtype: float64\n"
     ]
    }
   ],
   "source": [
    "print(csv_data.Price)"
   ]
  },
  {
   "cell_type": "code",
   "execution_count": 64,
   "metadata": {},
   "outputs": [],
   "source": [
    "#(1) Plot the ACF and PACF of the bitcoin data with lags from 1 to 15"
   ]
  },
  {
   "cell_type": "code",
   "execution_count": 65,
   "metadata": {},
   "outputs": [],
   "source": [
    "# ACF "
   ]
  },
  {
   "cell_type": "code",
   "execution_count": 66,
   "metadata": {},
   "outputs": [
    {
     "name": "stdout",
     "output_type": "stream",
     "text": [
      "[0.9699777178704678, 0.9190970607685849, 0.8630971437364037, 0.8051785838945831, 0.7410522377729387, 0.686879467423418, 0.6385299738006679, 0.5841289433891242, 0.5195053436140852, 0.45012723164487206, 0.37994124258280765, 0.2980070044755001, 0.22847510066768476, 0.16629075322071982]\n"
     ]
    }
   ],
   "source": [
    "BITCOIN_DATA_ACF = []\n",
    "for i in range(1,15):\n",
    "    BITCOIN_DATA_ACF.append(autoCorrelation(csv_data.Price, i))\n",
    "    \n",
    "print(BITCOIN_DATA_ACF)"
   ]
  },
  {
   "cell_type": "code",
   "execution_count": 67,
   "metadata": {},
   "outputs": [
    {
     "data": {
      "image/png": "[encoded data removed]",
      "text/plain": [
       "<Figure size 432x288 with 1 Axes>"
      ]
     },
     "metadata": {
      "needs_background": "light"
     },
     "output_type": "display_data"
    }
   ],
   "source": [
    "plt.plot(BITCOIN_DATA_ACF)\n",
    "plt.show()"
   ]
  },
  {
   "cell_type": "code",
   "execution_count": 68,
   "metadata": {},
   "outputs": [],
   "source": [
    "# PACF "
   ]
  },
  {
   "cell_type": "code",
   "execution_count": 69,
   "metadata": {},
   "outputs": [
    {
     "name": "stdout",
     "output_type": "stream",
     "text": [
      "[-0.0351664460878472, 0.8756869295386386, 0.9779156311303258, 0.9903263158065554, 0.9941771619840766, 0.9962551295987817, 0.9973357290291478, 0.9978698387222975, 0.998097465781897, 0.9981128332295687, 0.9979147396440738, 0.9972046599142821, 0.9958934470727977, 0.9928941347949646]\n"
     ]
    }
   ],
   "source": [
    "BITCOIN_DATA_PACF = []\n",
    "for i in range(1,15):\n",
    "    BITCOIN_DATA_PACF.append(partialAutoCorrelation(csv_data.Price, i))\n",
    "    \n",
    "print(BITCOIN_DATA_PACF)"
   ]
  },
  {
   "cell_type": "code",
   "execution_count": 70,
   "metadata": {},
   "outputs": [
    {
     "data": {
      "image/png": "[encoded data removed]",
      "text/plain": [
       "<Figure size 432x288 with 1 Axes>"
      ]
     },
     "metadata": {
      "needs_background": "light"
     },
     "output_type": "display_data"
    }
   ],
   "source": [
    "plt.plot(BITCOIN_DATA_PACF)\n",
    "plt.show()"
   ]
  },
  {
   "cell_type": "code",
   "execution_count": 71,
   "metadata": {},
   "outputs": [],
   "source": [
    "#(3) Plot the ACF and PACF of the bitcoin data with lags from 1 to 60"
   ]
  },
  {
   "cell_type": "code",
   "execution_count": 72,
   "metadata": {},
   "outputs": [],
   "source": [
    "#PACF"
   ]
  },
  {
   "cell_type": "code",
   "execution_count": 73,
   "metadata": {},
   "outputs": [
    {
     "name": "stdout",
     "output_type": "stream",
     "text": [
      "[0.9699777178704678, 0.9190970607685849, 0.8630971437364037, 0.8051785838945831, 0.7410522377729387, 0.686879467423418, 0.6385299738006679, 0.5841289433891242, 0.5195053436140852, 0.45012723164487206, 0.37994124258280765, 0.2980070044755001, 0.22847510066768476, 0.16629075322071982, 0.10602331627728592, 0.045984568946133675, -0.02393671990115344, -0.10329304532574311, -0.19566986462796382, -0.26220914158375636, -0.31947551474394953, -0.3664270191939305, -0.38252492099933516, -0.37688088467195324, -0.3673770421383935, -0.3540873384521891, -0.3463291876234304, -0.3548970519502127, -0.38244645558351476, -0.42094106158166966, -0.4472400395631622, -0.481353517312856, -0.5251054070289312, -0.5451519266013903, -0.5769426587967358, -0.6247108819969984, -0.6906072369179773, -0.7394339047827815, -0.7889125744551422, -0.8293329061016479, -0.8446500826011861, -0.8558608974066853, -0.8797133734417174, -0.9162093154480092, -0.9680655120467972, -1.0353074410457173, -1.0641736791306942, -1.0838358110562727, -1.0726849014123485, -1.0777179276183724, -1.061677019248202, -1.0443553014234994, -1.0751548933799495, -1.0836695498959077, -0.9611100636685248, -0.8557318435362153, -0.8420727435872887, -0.7665649134009047, -0.5954545949797865]\n"
     ]
    }
   ],
   "source": [
    "BITCOIN_DATA_ACF_60 = []\n",
    "for i in range(1,60):\n",
    "    BITCOIN_DATA_ACF_60.append(autoCorrelation(csv_data.Price, i))\n",
    "    \n",
    "print(BITCOIN_DATA_ACF_60)"
   ]
  },
  {
   "cell_type": "code",
   "execution_count": 74,
   "metadata": {},
   "outputs": [
    {
     "data": {
      "image/png": "[encoded data removed]",
      "text/plain": [
       "<Figure size 432x288 with 1 Axes>"
      ]
     },
     "metadata": {
      "needs_background": "light"
     },
     "output_type": "display_data"
    }
   ],
   "source": [
    "plt.plot(BITCOIN_DATA_ACF)\n",
    "plt.show()"
   ]
  },
  {
   "cell_type": "code",
   "execution_count": 75,
   "metadata": {},
   "outputs": [
    {
     "name": "stdout",
     "output_type": "stream",
     "text": [
      "[-0.0351664460878472, 0.8756869295386386, 0.9779156311303258, 0.9903263158065554, 0.9941771619840766, 0.9962551295987817, 0.9973357290291478, 0.9978698387222975, 0.998097465781897, 0.9981128332295687, 0.9979147396440738, 0.9972046599142821, 0.9958934470727977, 0.9928941347949646, 0.9750715666973448, -0.8961387542256359, 0.9645778622004013, 0.9977699008899941, 0.9993874514201047, 0.9996737040200014, 0.9997900820122381, 0.9998512676222329, 0.9998854026235385, 0.9999019146546437, 0.9999194328737844, 0.9999305945866573, 0.999940933307787, 0.999949435470371, 0.9999588304355224, 0.9999675987960163, 0.9999742843784329, 0.9999802448182833, 0.9999852866519966, 0.9999886618834115, 0.9999912965128589, 0.9999925331448315, 0.9999940768040064, 0.9999949301911079, 0.9999956914060382, 0.9999961993879377, 0.9999956701071742, 0.9999949291193333, 0.9999944193394688, 0.9999941966691666, 0.9999941790757804, 0.9999943212395105, 0.9999940350753932, 0.999993622081015, 0.9999927826363996, 0.9999920873943268, 0.9999909137764047, 0.9999892622405021, 0.9999883198005569, 0.9999866730803707, 0.9999800389612228, 0.9999694107549174, 0.9999589040880659, 0.9999271273243947, 0.9997637417430415]\n"
     ]
    }
   ],
   "source": [
    "BITCOIN_DATA_PACF_60 = []\n",
    "for i in range(1,60):\n",
    "    BITCOIN_DATA_PACF_60.append(partialAutoCorrelation(csv_data.Price, i))\n",
    "    \n",
    "print(BITCOIN_DATA_PACF_60)"
   ]
  },
  {
   "cell_type": "code",
   "execution_count": 49,
   "metadata": {},
   "outputs": [
    {
     "data": {
      "image/png": "[encoded data removed]",
      "text/plain": [
       "<Figure size 432x288 with 1 Axes>"
      ]
     },
     "metadata": {
      "needs_background": "light"
     },
     "output_type": "display_data"
    }
   ],
   "source": [
    "plt.plot(BITCOIN_DATA_PACF)\n",
    "plt.show()"
   ]
  },
  {
   "cell_type": "code",
   "execution_count": null,
   "metadata": {},
   "outputs": [],
   "source": []
  },
  {
   "cell_type": "code",
   "execution_count": null,
   "metadata": {},
   "outputs": [],
   "source": []
  }
 ],
 "metadata": {
  "kernelspec": {
   "display_name": "Python 3",
   "language": "python",
   "name": "python3"
  },
  "language_info": {
   "codemirror_mode": {
    "name": "ipython",
    "version": 3
   },
   "file_extension": ".py",
   "mimetype": "text/x-python",
   "name": "python",
   "nbconvert_exporter": "python",
   "pygments_lexer": "ipython3",
   "version": "3.7.3"
  }
 },
 "nbformat": 4,
 "nbformat_minor": 2
}
