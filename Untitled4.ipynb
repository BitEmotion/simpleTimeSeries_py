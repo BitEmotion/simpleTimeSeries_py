{
 "cells": [
  {
   "cell_type": "code",
   "execution_count": 2,
   "metadata": {},
   "outputs": [],
   "source": [
    "# HELPER FUNCTION"
   ]
  },
  {
   "cell_type": "code",
   "execution_count": 3,
   "metadata": {},
   "outputs": [],
   "source": [
    "def makeMean(list):\n",
    "    sum = 0\n",
    "    for i in list: \n",
    "        sum += i\n",
    "    return sum / len(list)\n",
    "\n",
    "def makeVariance(list):\n",
    "    mean = makeMean(list)\n",
    "    sum = 0\n",
    "    for i in list:\n",
    "        sum += (i - mean) * (i - mean)\n",
    "    return sum / len(list)  \n",
    "\n",
    "def covariance(listX,listY):\n",
    "    meanX = makeMean(listX)\n",
    "    meanY = makeMean(listY)    \n",
    "    meanXY = 0\n",
    "    \n",
    "    list_length = len(listX)\n",
    "    sum = 0\n",
    "    while list_length != 0:\n",
    "        list_length -= 1\n",
    "        sum += listX[list_length] * listY[list_length]\n",
    "    meanXY = sum / len(listX)\n",
    "    return meanXY - (meanX * meanY)\n",
    "\n",
    "def correlation(listX,listY):\n",
    "    stdVarX = math.sqrt(makeVariance(listX))\n",
    "    stdVarY = math.sqrt(makeVariance(listY))\n",
    "    covXY = covariance(listX,listY);\n",
    "    \n",
    "    if covXY == 0 or stdVarX == 0 or stdVarY == 0:\n",
    "        return 0\n",
    "    return covXY / (stdVarX * stdVarY)\n",
    "\n",
    "def autoCovariance(list, lagNum):\n",
    "    if lagNum == 0:\n",
    "        return 0\n",
    "    \n",
    "    if lagNum >= len(list):\n",
    "        print('lag는 인자로 들어오는 배열 데이터의 길이보다 작아야 합니다')\n",
    "    \n",
    "    mean = makeMean(list);\n",
    "    list_length = len(list);\n",
    "    times = 0;\n",
    "    autoCov = 0;\n",
    "    for i in range(0,list_length - lagNum):\n",
    "        autoCov += (list[i + lagNum] - mean) * (list[i] - mean);\n",
    "        times += 1;\n",
    "    \n",
    "    return autoCov / times;"
   ]
  },
  {
   "cell_type": "code",
   "execution_count": 4,
   "metadata": {},
   "outputs": [],
   "source": [
    "# ACF FUNCTION"
   ]
  },
  {
   "cell_type": "code",
   "execution_count": 5,
   "metadata": {},
   "outputs": [],
   "source": [
    "def autoCorrelation(list, lagNum):\n",
    "    if lagNum == 0:\n",
    "        return 0\n",
    "    \n",
    "    if lagNum >= len(list):\n",
    "        print('lag는 인자로 들어오는 배열 데이터의 길이보다 작아야 합니다')\n",
    "        \n",
    "    rh = autoCovariance(list, lagNum)\n",
    "    r0 = autoCovariance(list, 0)\n",
    "    \n",
    "    if rh == 0 or r0 == 0: \n",
    "        return 0\n",
    "    return rh / r0\n"
   ]
  },
  {
   "cell_type": "code",
   "execution_count": 6,
   "metadata": {},
   "outputs": [],
   "source": [
    "# PACF FUNCTION"
   ]
  },
  {
   "cell_type": "code",
   "execution_count": 7,
   "metadata": {},
   "outputs": [],
   "source": [
    "def partialAutoCorrelation(list, lagNum):\n",
    "    if lagNum == 0:\n",
    "        return 0\n",
    "    \n",
    "    if lagNum >= len(list):\n",
    "        print('lag는 인자로 들어오는 배열 데이터의 길이보다 작아야 합니다')\n",
    "        \n",
    "    alpha = autoCorrelation(list,1)\n",
    "\n",
    "    listX = []\n",
    "    listY = []\n",
    "    list_length = len(list)\n",
    "    \n",
    "    while list_length != 0:\n",
    "        if list_length - lagNum == 0:\n",
    "            break\n",
    "        \n",
    "        list_length -= 1\n",
    "        el_x = list[list_length]\n",
    "        el_y = list[list_length-lagNum]\n",
    "\n",
    "        temp_lagNum = lagNum;\n",
    "        while temp_lagNum != 0:\n",
    "            temp_lagNum -= 1\n",
    "            operand = (alpha * list[list_length - temp_lagNum])\n",
    "            el_x -= operand;\n",
    "            el_y -= operand;\n",
    "        \n",
    "\n",
    "        listX.append(el_x)\n",
    "        listY.append(el_y)\n",
    "    \n",
    "        \n",
    "    temp_lagNum = lagNum;\n",
    "\n",
    "    listX.append(-(alpha * list[0]))\n",
    "    listY.append(list[temp_lagNum] -(alpha * list[0]))\n",
    "\n",
    "    while temp_lagNum != 0:\n",
    "        temp_lagNum -= 1\n",
    "        listX.append(0)\n",
    "        listY.append(list[temp_lagNum])\n",
    "    \n",
    "    return correlation(listX, listY)"
   ]
  },
  {
   "cell_type": "code",
   "execution_count": null,
   "metadata": {},
   "outputs": [],
   "source": []
  }
 ],
 "metadata": {
  "kernelspec": {
   "display_name": "Python 3",
   "language": "python",
   "name": "python3"
  },
  "language_info": {
   "codemirror_mode": {
    "name": "ipython",
    "version": 3
   },
   "file_extension": ".py",
   "mimetype": "text/x-python",
   "name": "python",
   "nbconvert_exporter": "python",
   "pygments_lexer": "ipython3",
   "version": "3.7.3"
  }
 },
 "nbformat": 4,
 "nbformat_minor": 2
}
